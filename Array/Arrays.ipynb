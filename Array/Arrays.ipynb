{
 "cells": [
  {
   "cell_type": "code",
   "execution_count": null,
   "metadata": {},
   "outputs": [],
   "source": [
    "from IPython.display import display, HTML\n",
    "display(HTML(\"\"\"<a href=\"https://docs.google.com/spreadsheets/d/1Je8A3QfO6tMtoV88yziTwLwOCbkteeu5/edit?usp=drive_link&ouid=103020184169397357063&rtpof=true&sd=true\">DSA Sheet</a>\"\"\"))"
   ]
  },
  {
   "cell_type": "markdown",
   "metadata": {},
   "source": [
    "# Easy to Medium-Level Questions"
   ]
  },
  {
   "cell_type": "markdown",
   "metadata": {},
   "source": [
    "### 1. Two Sum"
   ]
  },
  {
   "cell_type": "code",
   "execution_count": null,
   "metadata": {},
   "outputs": [],
   "source": [
    "# Approach 1\n",
    "\n",
    "def twoSum(nums, target):\n",
    "    temp = {}\n",
    "    for index,i in enumerate(nums):\n",
    "        diff = target-i\n",
    "        if diff in temp:\n",
    "            return [temp[diff], index]\n",
    "        else:\n",
    "             temp[i]=index\n",
    "\n",
    "nums = [2,7,11,15]\n",
    "target = 9\n",
    "twoSum(nums,target)"
   ]
  },
  {
   "cell_type": "code",
   "execution_count": null,
   "metadata": {},
   "outputs": [],
   "source": [
    "# Approach 2\n",
    "\n",
    "def twoSum(nums, target):\n",
    "    index_dict = {}\n",
    "    start=0\n",
    "    end=len(nums)-1\n",
    "\n",
    "    for index,i in enumerate(nums):\n",
    "        index_dict[i]=index\n",
    "    nums.sort()\n",
    "    print(index_dict)\n",
    "    \n",
    "\n",
    "    while start<end:\n",
    "        sum = nums[start]+nums[end]\n",
    "\n",
    "        if sum < target:\n",
    "            start=start+1\n",
    "        elif sum > target:\n",
    "            end = end-1\n",
    "        else:\n",
    "            first_index = index_dict[nums[start]]\n",
    "            second_index = index_dict[nums[end]]\n",
    "\n",
    "            if first_index == second_index:\n",
    "                end -= 1 \n",
    "            else:\n",
    "                return [first_index, second_index]\n",
    "    return [-1,-1]\n",
    "    \n",
    "nums = [-1,6,2,-4,3,7,9, 11,5]\n",
    "target = 4\n",
    "twoSum(nums,target)"
   ]
  },
  {
   "cell_type": "markdown",
   "metadata": {},
   "source": [
    "### 2. Best Time to Buy and Sell Stock"
   ]
  },
  {
   "cell_type": "code",
   "execution_count": null,
   "metadata": {},
   "outputs": [],
   "source": [
    "def maxProfit(prices):\n",
    "    buy = prices[0]\n",
    "    profit = 0\n",
    "    profit_list = []\n",
    "\n",
    "    for index, i in enumerate(prices):\n",
    "        print(\"Day:\",index+1)\n",
    "        profit = i-buy\n",
    "        print(\"buy:\",buy, \"profit:\",profit)\n",
    "        print(\"Today_price:\",i)\n",
    "        print()\n",
    "        if profit < 0:\n",
    "            buy=i\n",
    "        profit_list.append(profit)\n",
    "    return max(profit_list)\n",
    "\n",
    "# prices = [1,2]\n",
    "prices = [7,6,4,3,1]\n",
    "maxProfit(prices)\n",
    "\n"
   ]
  },
  {
   "cell_type": "markdown",
   "metadata": {},
   "source": [
    "### 3. Merge Sorted Array"
   ]
  },
  {
   "cell_type": "code",
   "execution_count": 258,
   "metadata": {},
   "outputs": [],
   "source": [
    "nums1 = [1,2,3,0,0,0]\n",
    "nums2 = [2,5,6]\n",
    "m = 3\n",
    "n = 3\n",
    "\n",
    "# nums1 = [1]\n",
    "# m = 1\n",
    "# nums2 = []\n",
    "# n = 0\n"
   ]
  },
  {
   "cell_type": "code",
   "execution_count": 259,
   "metadata": {},
   "outputs": [],
   "source": [
    "nums1[m:] = nums2[:n]\n",
    "nums1.sort()\n"
   ]
  },
  {
   "cell_type": "markdown",
   "metadata": {},
   "source": []
  },
  {
   "cell_type": "markdown",
   "metadata": {},
   "source": [
    "### 4. Move Zeroes"
   ]
  },
  {
   "cell_type": "code",
   "execution_count": 186,
   "metadata": {},
   "outputs": [],
   "source": [
    "nums = [0,1,0,3,12]\n",
    "Output = [1,3,12,0,0]"
   ]
  },
  {
   "cell_type": "code",
   "execution_count": null,
   "metadata": {},
   "outputs": [],
   "source": [
    "temp = 0\n",
    "for i in range(len(nums)):\n",
    "    if nums[i] != 0:\n",
    "        nums[temp],nums[i] = nums[i],nums[temp]   \n",
    "        temp = temp+1\n",
    "\n",
    "print(nums)"
   ]
  },
  {
   "cell_type": "markdown",
   "metadata": {},
   "source": [
    "### 5. Best Time to Buy and Sell Stock II"
   ]
  },
  {
   "cell_type": "code",
   "execution_count": 9,
   "metadata": {},
   "outputs": [],
   "source": [
    "# prices = [7,1,5,3,6,4]\n",
    "# prices = [7,6,4,3,1]\n",
    "prices = [1,2,3,4,5]"
   ]
  },
  {
   "cell_type": "code",
   "execution_count": null,
   "metadata": {},
   "outputs": [],
   "source": [
    "buy = prices[0]\n",
    "profit = 0\n",
    "\n",
    "for i in range(0, len(prices)-1):\n",
    "    buy = prices[i]\n",
    "    sell = prices[i+1]\n",
    "    # print(buy, sell)\n",
    "    if sell > buy:\n",
    "        diff = sell-buy\n",
    "        profit = profit+diff\n",
    "\n",
    "print(profit)"
   ]
  },
  {
   "cell_type": "markdown",
   "metadata": {},
   "source": [
    "### 6. Majority Element"
   ]
  },
  {
   "cell_type": "code",
   "execution_count": 157,
   "metadata": {},
   "outputs": [],
   "source": [
    "nums = [2,2,1,1,1,2,2]"
   ]
  },
  {
   "cell_type": "code",
   "execution_count": null,
   "metadata": {},
   "outputs": [],
   "source": [
    "max = 0\n",
    "curr_value = 0\n",
    "\n",
    "for i in nums:\n",
    "    if max == 0:\n",
    "        curr_value = i\n",
    "        \n",
    "    if curr_value == i:\n",
    "        max = max+1\n",
    "        \n",
    "    elif curr_value != i:\n",
    "        max = max-1\n",
    "      \n",
    "curr_value"
   ]
  },
  {
   "cell_type": "markdown",
   "metadata": {},
   "source": [
    "### 7.Find the Duplicate Number"
   ]
  },
  {
   "cell_type": "code",
   "execution_count": 2,
   "metadata": {},
   "outputs": [],
   "source": [
    "nums = [2,5,9,6,9,3,8,9,7,1]"
   ]
  },
  {
   "cell_type": "code",
   "execution_count": null,
   "metadata": {},
   "outputs": [],
   "source": [
    "slow = nums[0]\n",
    "fast = nums[nums[0]]\n",
    "print(f\"slow1:{slow}, fast1:{fast}\")\n",
    "\n",
    "while slow!=fast:\n",
    "    slow = nums[slow]\n",
    "    fast = nums[nums[fast]]\n",
    "    print(f\"slow2:{slow}, fast2:{fast}\")\n",
    "slow=0\n",
    "print(f\"slow3:{slow}, fast3:{fast}\")\n",
    "while slow!=fast:\n",
    "    slow = nums[slow]\n",
    "    fast = nums[fast]\n",
    "    print(f\"slow4:{slow}, fast4:{fast}\")\n",
    "\n",
    "print(slow)"
   ]
  },
  {
   "cell_type": "markdown",
   "metadata": {},
   "source": [
    "### 8. Maximum Subarray"
   ]
  },
  {
   "cell_type": "code",
   "execution_count": 25,
   "metadata": {},
   "outputs": [],
   "source": [
    "nums = [5,4,-1,7,8]"
   ]
  },
  {
   "cell_type": "code",
   "execution_count": null,
   "metadata": {},
   "outputs": [],
   "source": [
    "current_sum, max_sum = nums[0],nums[0]\n",
    "for i in nums[1:]:\n",
    "    if current_sum + i > i:\n",
    "        current_sum = current_sum + i\n",
    "    else:\n",
    "        current_sum = i\n",
    "    if current_sum > max_sum:\n",
    "        max_sum = current_sum\n",
    "\n",
    "max_sum"
   ]
  },
  {
   "cell_type": "markdown",
   "metadata": {},
   "source": [
    "### 9. Remove Duplicates from Sorted Array"
   ]
  },
  {
   "cell_type": "code",
   "execution_count": null,
   "metadata": {},
   "outputs": [],
   "source": [
    "nums = [1,2,2,3,4]"
   ]
  },
  {
   "cell_type": "code",
   "execution_count": 88,
   "metadata": {},
   "outputs": [
    {
     "name": "stdout",
     "output_type": "stream",
     "text": [
      "4\n"
     ]
    }
   ],
   "source": [
    "if not nums:\n",
    "    print(0) \n",
    "\n",
    "i = 0  # Pointer for the last unique element\n",
    "for j in range(1, len(nums)):\n",
    "    if nums[j] != nums[i]:  # Found a new unique element\n",
    "        i += 1\n",
    "        nums[i] = nums[j]\n",
    "\n",
    "print(i + 1) \n",
    "    "
   ]
  },
  {
   "cell_type": "code",
   "execution_count": null,
   "metadata": {},
   "outputs": [],
   "source": []
  }
 ],
 "metadata": {
  "kernelspec": {
   "display_name": "base",
   "language": "python",
   "name": "python3"
  },
  "language_info": {
   "codemirror_mode": {
    "name": "ipython",
    "version": 3
   },
   "file_extension": ".py",
   "mimetype": "text/x-python",
   "name": "python",
   "nbconvert_exporter": "python",
   "pygments_lexer": "ipython3",
   "version": "3.12.7"
  }
 },
 "nbformat": 4,
 "nbformat_minor": 2
}
